{
 "cells": [
  {
   "cell_type": "raw",
   "metadata": {},
   "source": [
    "1. Is the Python Standard Library included with PyInputPlus?\n",
    "Answer: No PyInpuPlus is not part of Python's standard library.\n",
    "    \n",
    "2. Why is PyInputPlus commonly imported with import pyinputplus as pypi?\n",
    "Answer: So that we have ease of calling modules function with shorter name.\n",
    "    \n",
    "3. How do you distinguish between inputInt() and inputFloat()?\n",
    "Answer:  inputInt() : Accepts an integer value, and returns int value\n",
    "inputFloat() : Accepts integer/floating point value and returns float value\n",
    "    \n",
    "4. Using PyInputPlus, how do you ensure that the user enters a whole number between 0 and 99?\n",
    "Answer: We can assign min and max values for inputInt() function as below to get number between 0 and 99:\n",
    "        pyip.inputInt(min = 0, max = 99)\n",
    "\n",
    "5. What is transferred to the keyword arguments allowRegexes and blockRegexes?\n",
    "Answer:  We can also use regular expressions to specify whether an input is allowed or not. \n",
    "    The allowRegexes and blockRegexes keyword arguments take a list of regular expression strings \n",
    "    to determine what the PyInputPlus function will accept or reject as valid input.\n",
    "6. If a blank input is entered three times, what does inputStr(limit=3) do?\n",
    "Answer: It will raise exception as RetryLimitException: \n",
    "    \n",
    "7. If blank input is entered three times, what does inputStr(limit=3, default='hello') do?\n",
    "Answer: It will give default value which is 'hello'"
   ]
  }
 ],
 "metadata": {
  "kernelspec": {
   "display_name": "Python 3",
   "language": "python",
   "name": "python3"
  },
  "language_info": {
   "codemirror_mode": {
    "name": "ipython",
    "version": 3
   },
   "file_extension": ".py",
   "mimetype": "text/x-python",
   "name": "python",
   "nbconvert_exporter": "python",
   "pygments_lexer": "ipython3",
   "version": "3.7.4"
  }
 },
 "nbformat": 4,
 "nbformat_minor": 2
}

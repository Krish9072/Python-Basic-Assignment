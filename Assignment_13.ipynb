{
 "cells": [
  {
   "cell_type": "raw",
   "metadata": {},
   "source": [
    "1. What advantages do Excel spreadsheets have over CSV spreadsheets?\n",
    "Answer: following are the advantages of excel over csv\n",
    "Excel can : store different types of value.\n",
    "          : have setting for size or color of the values.\n",
    "          : have images or charts embeded in them.\n",
    "          : have multiple worksheets and merged cells\n",
    "\n",
    "2.What do you pass to csv.reader() and csv.writer() to create reader and writer objects?\n",
    "Answer: \n",
    "for reading csv file : csv.reader(open('csvfilename.csv'))\n",
    "for writing in csv file : csv.writer(open('csvfilename.csv','w',newline=''))\n",
    "\n",
    "3. What modes do File objects for reader and writer objects need to be opened in?\n",
    "Answer: files for reader object should be opened in 'r' read mode.\n",
    "    file for writer object should be opend in 'w' write mode\n",
    "\n",
    "4. What method takes a list argument and writes it to a CSV file?\n",
    "Answer:writerow() method for writer object takes list argument\n",
    "\n",
    "5. What do the keyword arguments delimiter and line terminator do?\n",
    "Answer: if you want to change cell separator with some other parameter instead of comma for that you can use delimiter keyword argument.\n",
    "    and if you want end the row with double two newlines then you can use line termination keyword argument in writer object.\n",
    "    \n",
    "6. What function takes a string of JSON data and returns a Python data structure?\n",
    "Answer: json.loads()\n",
    "\n",
    "7. What function takes a Python data structure and returns a string of JSON data?\n",
    "Answer: json.dumps()"
   ]
  }
 ],
 "metadata": {
  "kernelspec": {
   "display_name": "Python 3",
   "language": "python",
   "name": "python3"
  },
  "language_info": {
   "codemirror_mode": {
    "name": "ipython",
    "version": 3
   },
   "file_extension": ".py",
   "mimetype": "text/x-python",
   "name": "python",
   "nbconvert_exporter": "python",
   "pygments_lexer": "ipython3",
   "version": "3.7.4"
  }
 },
 "nbformat": 4,
 "nbformat_minor": 2
}

{
 "cells": [
  {
   "cell_type": "code",
   "execution_count": null,
   "metadata": {},
   "outputs": [],
   "source": [
    "1. How do you distinguish between shutil.copy() and shutil.copytree()?\n",
    "Answer: shutil.copy(): will copy a single files\n",
    "        shutil.copytree(): will copy an entire folder and every folder and files contained in it.\n",
    "            \n",
    "2. What function is used to rename files?\n",
    "Answer: we can user os.rename() function to rename the files.\n",
    "    \n",
    "3. What is the difference between the delete functions in the send2trash and shutil modules?\n",
    "Answer: The send2trash functions will move a file or folder to the recycle bin, while shutil functions \n",
    "    will permanently delete files and folders.\n",
    "\n",
    "4. ZipFile objects have a close() method just like File objects’ close() method. What ZipFile method is equivalent to File objects’ open() method?\n",
    "Answer: The zipfile.ZipFile() function is equivalent to the open() function; the first argument is the filename, \n",
    "    and the second argument is the mode to open the ZIP file in (read, write, or append).\n",
    "    \n",
    "5. Create a programme that searches a folder tree for files with a certain file extension (such as .pdf or .jpg). \n",
    "Copy these files from whatever location they are in to a new folder.\n",
    "Answer:\n",
    "import os, shutil\n",
    "\n",
    "def get_files_folder(folder_name, file_extensions,new_folder):\n",
    "    folder_name = os.path.abspath(folder_name)\n",
    "    new_folder = os.path.abspath(new_folder)\n",
    "    print('Traversing through', folder_name, 'for files with extensions of', ','.join(file_extensions))\n",
    "    for folder, subfolders, filenames in os.walk(folder_name):\n",
    "        for filename in filenames:\n",
    "            name, extension = os.path.splitext(filename)\n",
    "            if extension in file_extensions:\n",
    "                fileAbsPath = folder + os.path.sep + filename\n",
    "                print('Coping', fileAbsPath, 'to', new_folder)\n",
    "                shutil.copy(fileAbsPath, new_folder)\n"
   ]
  }
 ],
 "metadata": {
  "kernelspec": {
   "display_name": "Python 3",
   "language": "python",
   "name": "python3"
  },
  "language_info": {
   "codemirror_mode": {
    "name": "ipython",
    "version": 3
   },
   "file_extension": ".py",
   "mimetype": "text/x-python",
   "name": "python",
   "nbconvert_exporter": "python",
   "pygments_lexer": "ipython3",
   "version": "3.7.4"
  }
 },
 "nbformat": 4,
 "nbformat_minor": 2
}

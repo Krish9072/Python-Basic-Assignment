{
 "cells": [
  {
   "cell_type": "raw",
   "metadata": {},
   "source": [
    "1. In the below elements which of them are values or an expression? eg:- values can be integer or string and expressions will be mathematical operators.\n",
    "* \n",
    "'hello'\n",
    "-87.8\n",
    "- \n",
    "/ \n",
    "+\t\n",
    "6 \n",
    "\n",
    "Ans: Expression=(*,-,/,+)\n",
    "        Values=('hello',-87.8,6)"
   ]
  },
  {
   "cell_type": "raw",
   "metadata": {},
   "source": [
    "2. What is the difference between string and variable?\n",
    "Ans: string is data type while variable is a symbol we use to store data in programm"
   ]
  },
  {
   "cell_type": "raw",
   "metadata": {},
   "source": [
    "3. Describe three different data types.\n",
    "Ans:There are many data types some of which are as follows:\n",
    "        Strings: string can be sequence of characters,digits and symbols\n",
    "        e.g. st = 'India@1'\n",
    "        Integers: Integer is used to store numeric data type without fractional component.\n",
    "            e.g. Integer can be -10,0,10\n",
    "        Float: it is also a numeric data type which may have fractional componment.\n",
    "            e.g. it can be 0.65,-98.7,45.00    "
   ]
  },
  {
   "cell_type": "raw",
   "metadata": {},
   "source": [
    "4. What is an expression made up of? What do all expressions do?\n",
    "Ans: Expresssion is a combination of values, variables with mathematical operators.\n",
    "    Expression will evaluested to get results such as addition, substraction, etc.\n",
    "    e.g 8+9 is sum expression which will give us result as 17"
   ]
  },
  {
   "cell_type": "raw",
   "metadata": {},
   "source": [
    "5. This assignment statements, like spam = 10. What is the difference between an expression and a statement?\n",
    "Ans: Expression is combination of values, constants with mathematical operators to creat some result where as statement can be instruction or command that will do something. An expression is a statement that will return  value\n",
    "e.g. Expression: 5*4 will yield 20\n",
    "     Statment: print('hello') it will print hello\n",
    "     statment-Expression: Print(5*5) it will print 25 "
   ]
  },
  {
   "cell_type": "raw",
   "metadata": {},
   "source": [
    "6. After running the following code, what does the variable bacon contain?\n",
    "bacon = 22\n",
    "bacon + 1\n",
    "Ans: bacon will contain 22 only\n"
   ]
  },
  {
   "cell_type": "raw",
   "metadata": {},
   "source": [
    "7. What should the values of the following two terms be?\n",
    "'spam' + 'spamspam'\n",
    "'spam' * 3\n",
    "Ans: 'spam' + 'spamspam' will give 'spamspamspam'\n",
    "        'spam'*3 will give 'spamspamspam'"
   ]
  },
  {
   "cell_type": "raw",
   "metadata": {},
   "source": [
    "8. Why is eggs a valid variable name while 100 is invalid?\n",
    "Ans: becasue eggs is name of object while 100 has specific numerical value and also variable name can't begin with numbers"
   ]
  },
  {
   "cell_type": "raw",
   "metadata": {},
   "source": [
    "9. What three functions can be used to get the integer, floating-point number, or string version of a value?\n",
    "Ans: int()\n",
    "     float()\n",
    "     str()"
   ]
  },
  {
   "cell_type": "raw",
   "metadata": {},
   "source": [
    "10. Why does this expression cause an error? How can you fix it?\n",
    "'I have eaten ' + 99 + ' burritos.'\n",
    "Ans: Because above expression is trying to concatenate string with integer.\n",
    "    The correct way will be :'I have eaten ' + '99' + ' burritos.'"
   ]
  },
  {
   "cell_type": "code",
   "execution_count": null,
   "metadata": {},
   "outputs": [],
   "source": []
  }
 ],
 "metadata": {
  "kernelspec": {
   "display_name": "Python 3",
   "language": "python",
   "name": "python3"
  },
  "language_info": {
   "codemirror_mode": {
    "name": "ipython",
    "version": 3
   },
   "file_extension": ".py",
   "mimetype": "text/x-python",
   "name": "python",
   "nbconvert_exporter": "python",
   "pygments_lexer": "ipython3",
   "version": "3.7.4"
  }
 },
 "nbformat": 4,
 "nbformat_minor": 2
}

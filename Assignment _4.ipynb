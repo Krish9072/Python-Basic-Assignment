{
 "cells": [
  {
   "cell_type": "raw",
   "metadata": {},
   "source": [
    "1. What exactly is []?\n",
    "Answer: it is an empty list."
   ]
  },
  {
   "cell_type": "raw",
   "metadata": {},
   "source": [
    "2. In a list of values stored in a variable called spam, how would you assign the value 'hello' as the third value? (Assume [2, 4, 6, 8, 10] are in spam.)\n",
    "Let's pretend the spam includes the list ['a', 'b', 'c', 'd'] for the next three queries.\n",
    "Answer: spam[2] = 'hello'"
   ]
  },
  {
   "cell_type": "markdown",
   "metadata": {},
   "source": [
    "# Let's pretend the spam includes the list ['a', 'b', 'c', 'd'] for the next three queries."
   ]
  },
  {
   "cell_type": "raw",
   "metadata": {},
   "source": [
    "3. What is the value of spam[int(int('3' * 2) / 11)]?\n",
    "Answer: the value is 'd'"
   ]
  },
  {
   "cell_type": "raw",
   "metadata": {},
   "source": [
    "4. What is the value of spam[-1]?\n",
    "Answer:'d'"
   ]
  },
  {
   "cell_type": "raw",
   "metadata": {},
   "source": [
    "5. What is the value of spam[:2]?\n",
    "Answer:['a', 'b']"
   ]
  },
  {
   "cell_type": "markdown",
   "metadata": {},
   "source": [
    "# Let's pretend bacon has the list [3.14, 'cat,' 11, 'cat,' True] for the next three questions."
   ]
  },
  {
   "cell_type": "raw",
   "metadata": {},
   "source": [
    "6. What is the value of bacon.index('cat')?\n",
    "Answer: 1 (It will give index of first occurance of cat)"
   ]
  },
  {
   "cell_type": "raw",
   "metadata": {},
   "source": [
    "7. How does bacon.append(99) change the look of the list value in bacon?\n",
    "Answer: [3.14, 'cat', 11, 'cat', True, 99]"
   ]
  },
  {
   "cell_type": "raw",
   "metadata": {},
   "source": [
    "8. How does bacon.remove('cat') change the look of the list in bacon?\n",
    "Answer :[3.14, 11, 'cat', True]"
   ]
  },
  {
   "cell_type": "raw",
   "metadata": {},
   "source": [
    "9. What are the list concatenation and list replication operators?\n",
    "Answer: The operator for list concatenation is +, while the operator for replication is *."
   ]
  },
  {
   "cell_type": "raw",
   "metadata": {},
   "source": [
    "10. What is difference between the list methods append() and insert()?\n",
    "Answer: append() will add values only to the end of a list, insert() can add values at any index in the list."
   ]
  },
  {
   "cell_type": "raw",
   "metadata": {},
   "source": [
    "11. What are the two methods for removing items from a list?\n",
    "Answer: The methods remove() and del can be used to remove items in the list."
   ]
  },
  {
   "cell_type": "raw",
   "metadata": {},
   "source": [
    "12. Describe how list values and string values are identical.\n",
    "Answer: List and strings both are sequences having indexes, which are iterable.\n",
    "    similar operations can be performed on them suc as len(), slicing, \n",
    "    can be used in 'for loop' for iterating, concatenating/replication..etc"
   ]
  },
  {
   "cell_type": "raw",
   "metadata": {},
   "source": [
    "13. What's the difference between tuples and lists?\n",
    "Answer: Tuples are enclosed inside parentheses () whereas list are enclosed using square brackets[].\n",
    "    Lists are mutable meaning items can be inserted, updated and removed. \n",
    "    Tuples are immutable meaning they cannot be altered at all."
   ]
  },
  {
   "cell_type": "raw",
   "metadata": {},
   "source": [
    "14. How do you type a tuple value that only contains the integer 42?\n",
    "Answer:(42,), The trailing comma is mandatory if not then it will be saved as integer\n",
    "    "
   ]
  },
  {
   "cell_type": "raw",
   "metadata": {},
   "source": [
    "15. How do you get a list value's tuple form? How do you get a tuple value's list form\n",
    "Answer: To get list in tuple form use tuple() function and for getting tuple in list form use list() function."
   ]
  },
  {
   "cell_type": "raw",
   "metadata": {},
   "source": [
    "16. Variables that \"contain\" list values are not necessarily lists themselves. Instead, what do they contain?\n",
    "Answer: They contain references to list values"
   ]
  },
  {
   "cell_type": "raw",
   "metadata": {},
   "source": [
    "17. How do you distinguish between copy.copy() and copy.deepcopy()?\n",
    "Answer:The copy.copy() function will do a shallow copy of a list \n",
    "    and the copy.deepcopy() function will do a deep copy of a list.\n",
    "explained below with e.g.\n",
    "import copy\n",
    "a = [32, 225, 301]\n",
    "b = [422, 523, 346]\n",
    "c = [a, b]\n",
    "d = copy.copy(c)\n",
    "print(id(c) == id(d))        # False - d is now a new object\n",
    "print(id(c[0]) == id(d[0]))   # True - d[0] is the same object as c[0]\n",
    "d = copy.deepcopy(c)\n",
    "print(id(c) == id(d))        # False - d is now a new object\n",
    "print(id(c[0]) == id(d[0]))   # False - d[0] is now a new object\n"
   ]
  }
 ],
 "metadata": {
  "kernelspec": {
   "display_name": "Python 3",
   "language": "python",
   "name": "python3"
  },
  "language_info": {
   "codemirror_mode": {
    "name": "ipython",
    "version": 3
   },
   "file_extension": ".py",
   "mimetype": "text/x-python",
   "name": "python",
   "nbconvert_exporter": "python",
   "pygments_lexer": "ipython3",
   "version": "3.7.4"
  }
 },
 "nbformat": 4,
 "nbformat_minor": 2
}

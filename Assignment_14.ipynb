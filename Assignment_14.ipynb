{
 "cells": [
  {
   "cell_type": "raw",
   "metadata": {},
   "source": [
    "1. What does RGBA stand for?\n",
    "Answer: RGBA(RED,GREEN,BLUE,alpha)\n",
    "\n",
    "2. From the Pillow module, how do you get the RGBA value of any images?\n",
    "Answer: below code will give RGBA value for image: exampleimage.png\n",
    "from PIL import Image\n",
    "img = Image.open('exampleimage.png')\n",
    "rgba = img.convert('RGBA')\n",
    "data= rgba.getdata()\n",
    "\n",
    "3. What is a box tuple, and how does it work?\n",
    "Answer: The box tuple is a 4-tuple defining the left, upper, right, and lower pixel which gives rectangular region from the image.\n",
    ".\n",
    "4. Use your image and load in notebook then, How can you find out the width and height of an Image object?\n",
    "Answer: To get width and height of image\n",
    "from PIL import Image\n",
    "img = Image.open('pic.png')\n",
    "Widht, height = img.size\n",
    "\n",
    "5. What method would you call to get Image object for a 100×100 image, excluding the lower-left quarter of it?\n",
    "Answer: imageObj.crop((0, 50, 50, 50))\n",
    "\n",
    "    \n",
    "6. After making changes to an Image object, how could you save it as an image file?\n",
    "Answer:Calling the save() method and passing it image name you want to save the image with.\n",
    "e.g. ImageObject.save('example.png')\n",
    "    \n",
    "7. What module contains Pillow’s shape-drawing code?\n",
    "Answer:The ImageDraw module contains code to draw on images.\n",
    "    \n",
    "8. Image objects do not have drawing methods. What kind of object does? How do you get this kind of object?\n",
    "Answer: ImageDraw objects have shape-drawing methods such as point(), line(), or rectangle(). They are returned by passing the Image object to the ImageDraw.Draw() function."
   ]
  }
 ],
 "metadata": {
  "kernelspec": {
   "display_name": "Python 3",
   "language": "python",
   "name": "python3"
  },
  "language_info": {
   "codemirror_mode": {
    "name": "ipython",
    "version": 3
   },
   "file_extension": ".py",
   "mimetype": "text/x-python",
   "name": "python",
   "nbconvert_exporter": "python",
   "pygments_lexer": "ipython3",
   "version": "3.7.4"
  }
 },
 "nbformat": 4,
 "nbformat_minor": 2
}

{
 "cells": [
  {
   "cell_type": "raw",
   "metadata": {},
   "source": [
    "1.What are the two values of the Boolean data type? How do you write them?\n",
    "Answer: Two values of boolean data types are True and False.\n",
    "    \n",
    "2. What are the three different types of Boolean operators?\n",
    "Answer: Types of boolean operators as follows:\n",
    "        1. and\n",
    "        2. or\n",
    "        3. not\n",
    "3. Make a list of each Boolean operator's truth tables (i.e. every possible combination of Boolean values for the operator and what it evaluate ).\n",
    "Answer: True is denoted as T and False is denoted as F\n",
    "    and operator truth table\n",
    "    Input   Output\n",
    "    T  T      T\n",
    "    T  F      F\n",
    "    F  T      F\n",
    "    F  F      F\n",
    "    \n",
    "    or boolean operator truth table\n",
    "    \n",
    "    Input   Output\n",
    "    T  T      T\n",
    "    T  F      T\n",
    "    F  T      T\n",
    "    F  F      F\n",
    "    \n",
    "    not boolean operator truth table\n",
    "    \n",
    "    Input    Output\n",
    "    T         F\n",
    "    F         T\n",
    "   \n",
    "4. What are the values of the following expressions?\n",
    "(5 > 4) and (3 == 5) ==> False\n",
    "not (5 > 4) ==> False\n",
    "(5 > 4) or (3 == 5) ==> True\n",
    "not ((5 > 4) or (3 == 5)) ==> False\n",
    "(True and True) and (True == False) ==> False\n",
    "(not False) or (not True) ==> True\n",
    "5. What are the six comparison operators?\n",
    "Answer:comparison operators\n",
    "    > :gratter than\n",
    "    < :less than\n",
    "    == :equal to \n",
    "    != :not equal to\n",
    "    >= :gratter than equal to\n",
    "    <= :less than equal to\n",
    "    \n",
    "6. How do you tell the difference between the equal to and assignment operators?Describe a condition and when you would use one.\n",
    " Answer: While we use two equal signs(==) then it's a comparision operator and when we use single equal sign(=) it's a assignment operator.\n",
    " for e.g. if we have two variables  a and b having values as a=10 and b=13. if we compare a and b using equalt to comparision operator it will give us False.\n",
    " a=10\n",
    " b=13\n",
    " a == b ==> False\n",
    "\n"
   ]
  },
  {
   "cell_type": "raw",
   "metadata": {},
   "source": [
    "7. Identify the three blocks in this code:\n",
    "spam = 0\n",
    "if spam == 10:\n",
    "    print('eggs')\n",
    "    if spam > 5:\n",
    "        print('bacon')\n",
    "    else:\n",
    "        print('ham')\n",
    "    print('spam')\n",
    "print('spam')\n",
    "Answer:\n",
    "    The three blocks are everything inside the if statement and the lines print('bacon') and print('ham').\n",
    "print('eggs')\n",
    "if spam > 5:\n",
    "    print('bacon')\n",
    "else:\n",
    "    print('ham')\n",
    "print('spam')\n"
   ]
  },
  {
   "cell_type": "raw",
   "metadata": {},
   "source": [
    "8. Write code that prints Hello if 1 is stored in spam, prints Howdy if 2 is stored in spam, and prints Greetings! if anything else is stored in spam.\n",
    "\n",
    "Answer:\n",
    "if spam == 1:\n",
    "    print('hello')\n",
    "elif spam == 2:\n",
    "    print('Howdy')\n",
    "else:\n",
    "    print('Greetings!')"
   ]
  },
  {
   "cell_type": "raw",
   "metadata": {},
   "source": [
    "9.If your programme is stuck in an endless loop, what keys you’ll press?\n",
    "Answer: Ctrl + C"
   ]
  },
  {
   "cell_type": "raw",
   "metadata": {},
   "source": [
    "10. How can you tell the difference between break and continue?\n",
    "Answer:\n",
    "    break statment will the break the execution of loop from where it is placed.\n",
    "    continue statment will skip the single iteration in a loop."
   ]
  },
  {
   "cell_type": "raw",
   "metadata": {},
   "source": [
    "11. In a for loop, what is the difference between range(10), range(0, 10), and range(0, 10, 1)?\n",
    "Answer:\n",
    "    There won't be any difference if for loop having sequence as range(10)/range(0,10)/range(0,10,1).\n",
    "    as range(start, stop, step) function has default start value as 0 and step size as 1"
   ]
  },
  {
   "cell_type": "raw",
   "metadata": {},
   "source": [
    "12. Write a short program that prints the numbers 1 to 10 using a for loop. Then write an equivalent program that prints the numbers 1 to 10 using a while loop.\n",
    "Answer:\n",
    "Using for loop:\n",
    "for i in range(1,11):\n",
    "    print(i)\n",
    "Using while loop:\n",
    "i = 1\n",
    "while i <= 10:\n",
    "    print(i)\n",
    "    i+=1"
   ]
  },
  {
   "cell_type": "raw",
   "metadata": {},
   "source": [
    "13. If you had a function named bacon() inside a module named spam, how would you call it after importing spam?\n",
    "\n",
    "Answer: The function can be called as spam.bacon()\n",
    "    "
   ]
  }
 ],
 "metadata": {
  "kernelspec": {
   "display_name": "Python 3",
   "language": "python",
   "name": "python3"
  },
  "language_info": {
   "codemirror_mode": {
    "name": "ipython",
    "version": 3
   },
   "file_extension": ".py",
   "mimetype": "text/x-python",
   "name": "python",
   "nbconvert_exporter": "python",
   "pygments_lexer": "ipython3",
   "version": "3.7.4"
  }
 },
 "nbformat": 4,
 "nbformat_minor": 2
}
